{
 "cells": [
  {
   "cell_type": "code",
   "execution_count": 11,
   "metadata": {},
   "outputs": [],
   "source": [
    "import pandas as pd\n",
    "import requests\n",
    "from pathlib import Path\n",
    "import json"
   ]
  },
  {
   "cell_type": "code",
   "execution_count": 9,
   "metadata": {},
   "outputs": [],
   "source": [
    "df = pd.read_excel('Data For Engineering team .xlsx')\n",
    "web_links = df['web link'].values.tolist()"
   ]
  },
  {
   "cell_type": "code",
   "execution_count": 20,
   "metadata": {},
   "outputs": [],
   "source": [
    "class RawHtmlContent:\n",
    "    def __init__(self, content, meta={}) -> None:\n",
    "        self.content = content\n",
    "        self.meta = meta\n",
    "\n",
    "    def save(self, name):\n",
    "        save_content = {\n",
    "            'content': self.content,\n",
    "            'meta': self.meta\n",
    "        }\n",
    "\n",
    "        json.dump(save_content, Path(name).open('w'))\n",
    "\n",
    "    @classmethod\n",
    "    def load(cls, name):\n",
    "        loaded = json.load(Path(name).open('r'))\n",
    "        return cls(loaded['content'], loaded['meta'])\n",
    "\n",
    "\n",
    "RawHtmlContent(b\"hrllo world\".decode()).save('file.json')"
   ]
  },
  {
   "cell_type": "code",
   "execution_count": 22,
   "metadata": {},
   "outputs": [],
   "source": [
    "save_dir = 'DB-Raw'"
   ]
  },
  {
   "cell_type": "code",
   "execution_count": null,
   "metadata": {},
   "outputs": [],
   "source": [
    "Failed = []\n",
    "for i, link in enumerate(web_links):\n",
    "    meta = {'link': link}\n",
    "    try:\n",
    "        response3m = requests.get(link, headers={\"User-Agent\": \"Mozilla/5.0 (X11; CrOS x86_64 12871.102.0) AppleWebKit/537.36 (KHTML, like Gecko) Chrome/81.0.4044.141 Safari/537.36\"}, timeout=30)\n",
    "        if response3m.status_code != 200:\n",
    "            raise Exception('not 200')\n",
    "    except Exception as err:\n",
    "        Failed.append(link)\n",
    "        continue\n",
    "\n",
    "    RawHtmlContent(response3m.content.decode('utf-8', 'replace'), meta).save(f\"{save_dir}/{i}.json\")"
   ]
  },
  {
   "cell_type": "code",
   "execution_count": null,
   "metadata": {},
   "outputs": [],
   "source": []
  }
 ],
 "metadata": {
  "interpreter": {
   "hash": "9f8aa5802ff295996a7112b4a5db9d19dc5345ffcfa564382b481ea6763fd7b5"
  },
  "kernelspec": {
   "display_name": "Python 3.9.9 64-bit (system)",
   "language": "python",
   "name": "python3"
  },
  "language_info": {
   "codemirror_mode": {
    "name": "ipython",
    "version": 3
   },
   "file_extension": ".py",
   "mimetype": "text/x-python",
   "name": "python",
   "nbconvert_exporter": "python",
   "pygments_lexer": "ipython3",
   "version": "3.9.9"
  },
  "orig_nbformat": 4
 },
 "nbformat": 4,
 "nbformat_minor": 2
}
