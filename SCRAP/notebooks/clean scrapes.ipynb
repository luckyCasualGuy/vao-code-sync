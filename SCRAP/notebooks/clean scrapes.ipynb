{
 "cells": [
  {
   "cell_type": "code",
   "execution_count": 48,
   "metadata": {},
   "outputs": [],
   "source": [
    "from core.component import RawHtmlContent\n",
    "from pathlib import Path\n",
    "import bs4\n",
    "from typing import List\n",
    "import pandas as pd\n",
    "import json"
   ]
  },
  {
   "cell_type": "code",
   "execution_count": 2,
   "metadata": {},
   "outputs": [],
   "source": [
    "db = 'DB-Raw'\n",
    "all_files = list(Path(db).glob('*.json'))"
   ]
  },
  {
   "cell_type": "code",
   "execution_count": 3,
   "metadata": {},
   "outputs": [],
   "source": [
    "sample = RawHtmlContent.load(all_files[0])"
   ]
  },
  {
   "cell_type": "code",
   "execution_count": 102,
   "metadata": {},
   "outputs": [],
   "source": [
    "class Body:\n",
    "    def __init__(self, content, ignore=[]) -> None:\n",
    "        self.soup = bs4.BeautifulSoup(content, 'html.parser')\n",
    "        self.body = self.soup.body\n",
    "\n",
    "        if ignore:\n",
    "            if self.body: self.body = self.ignore(self.body, ignore)\n",
    "\n",
    "    @staticmethod\n",
    "    def ignore(body, tags=[]):\n",
    "        new_body = body\n",
    "        if tags:\n",
    "            for tag in tags:\n",
    "                for t in new_body.find_all(tag):\n",
    "                    if t: t.decompose()\n",
    "        return new_body\n",
    "\n",
    "    def extract_lines(self, word_thresh = 2):\n",
    "        lines = []\n",
    "        def recursive_extract(tag):\n",
    "\n",
    "            if isinstance(tag, bs4.element.Tag):\n",
    "                for t in tag.children:\n",
    "                    recursive_extract(t)\n",
    "            else:\n",
    "                text = tag.text\n",
    "                if len(text.split(' ')) > word_thresh:\n",
    "                    lines.append(text)\n",
    "\n",
    "        if self.body: recursive_extract(self.body)\n",
    "\n",
    "        return lines\n",
    "        \n",
    "ignore = ['script', 'img', 'table', 'button', 'i', 'noscript', 'style', 'form', 'meta']\n",
    "sample_body = Body(sample.content, ignore=ignore)"
   ]
  },
  {
   "cell_type": "code",
   "execution_count": 5,
   "metadata": {},
   "outputs": [
    {
     "data": {
      "text/plain": [
       "97"
      ]
     },
     "execution_count": 5,
     "metadata": {},
     "output_type": "execute_result"
    }
   ],
   "source": [
    "lines = sample_body.extract_lines()\n",
    "len(lines)"
   ]
  },
  {
   "cell_type": "code",
   "execution_count": 6,
   "metadata": {},
   "outputs": [],
   "source": [
    "class CleanLines:\n",
    "    remove = ['\\n', '\\r', '\\t', '\\xa0', '..', '...', '©', '™', '  ']\n",
    "    separator = '. '\n",
    "    line_separator = separator\n",
    "\n",
    "    def __init__(self, lines, \n",
    "    lower=False, unique=True,\n",
    "    remove=[], add_to_remove=[],\n",
    "    inner_split=True) -> None:\n",
    "\n",
    "        if remove: self.remove = remove\n",
    "        if add_to_remove: self.remove.extend(add_to_remove)\n",
    "        if not inner_split: self.line_separator = '<><><><><><><><><><><>'\n",
    "\n",
    "        cleaned = []\n",
    "        for line in lines:\n",
    "            for t in self.remove:\n",
    "                line = line.replace(t, '')\n",
    "\n",
    "            if line:\n",
    "                if lower: line = line.lower()\n",
    "                for l in line.split(self.line_separator):\n",
    "                    cleaned.append(l.strip())\n",
    "\n",
    "        if unique: cleaned = list(set(cleaned))\n",
    "        self.lines = cleaned\n",
    "\n",
    "\n",
    "    def match_vocab(self, vocab):\n",
    "        matching = []\n",
    "        for line in self.lines:\n",
    "            for word in line.split(' '):\n",
    "                if word in vocab:\n",
    "                    matching.append(line)\n",
    "                    break\n",
    "        return matching\n",
    "\n",
    "    def __call__(self):\n",
    "        return self.lines\n",
    "\n",
    "cleaned = CleanLines(lines, lower=True)"
   ]
  },
  {
   "cell_type": "code",
   "execution_count": 33,
   "metadata": {},
   "outputs": [
    {
     "name": "stderr",
     "output_type": "stream",
     "text": [
      "C:\\Users\\lucky\\Desktop\\ongoing\\bots\\vaobot\\lib\\site-packages\\bs4\\__init__.py:337: MarkupResemblesLocatorWarning: \"core\" looks like a directory name, not markup. You may want to open a file found in this directory and pass the filehandle into Beautiful Soup.\n",
      "  warnings.warn(\n"
     ]
    }
   ],
   "source": [
    "from nltk.corpus import stopwords\n",
    "S = stopwords.words('english')\n",
    "\n",
    "VOCABALL = ['marking','packaging','Waste','Metallized','fiber','2','Specially','1016','cassettes','capacity','carboxymethylcellulose','Photo',\"Builders'\",'hardened','inner','sugar','Reflectorized','part','adjuvants','confining','ornamental','Low','gift-packaging','Face','derailleur','goods','gemstones','Alginic','stoppers','sheets','wipes','sheeting','Copolymers','supported','kg/m<sup>2</sup>','finger','weight','dispensers','Polylactic','Acrylic','polymers','knobs','creamers','valances','Having','chapter','close','signs','plastics','3913','tile','-610','Sacks','venetian','coumarone','Ethylene-alpha-olefin','Less','Windows','attached','dispersion','88','1.492','clips','rods','foil','number','similarly','bicycle','window','O-Rings','Pneumatic','document','saucers','8701.20','produced','hoods','lavatory','unsaturated','Plasticized','mechanical','Polytetrafluoroethylene','Lavatory','Allyl','1.44','152.4','sanitary','chloride','Styrene-acrylonitrile','Cellulose','Acrylonitrile-butadiene-styrene','length','lids','phenolic','lead','Laboratory','coachwork','Natural','photographic','tabs','-11','cyanate','ribbon','11.36','Containing','device','protein','plasticizers','Cross-linked','put','Jacquard','Woven','Picture','Window','crates','retail','monomer','bands','synthetic','phenyl','scrap','rolls','gravy','defined','90','Ice','less','viscosity','set','noncellular','polysulfides','sinks','8903','except','slides','thereof','24-diisocyanate-135-tris1-methyl-','whole','boxes','carrier','form','cleanout','gift-wrapping','door','terpolymers','baths','Salt','Combined','pessaries','shells','flanges','$1.70','Hydrocarbon','3914','similar','fibers','manholes','coverings','crystal','resin','isophthalic','Cements','$1.35','SCRAP','Phenolic','specific','cones','higher','Medium','otherwise','exceeding','coumarone-indene','ribbons','pepper','6','worked','Plates','Seamless','longer','described','relative','70','sports','platters','-69','Cards','foregoing','flushing','pets','alginic','self-adhesive','Granular','Elastic','based','articles','cellulose','motors','pleasure','combined','300','temporarily','polymethyl','yachts','phenyl]-ω-[[[26-bis1-methylethyl-','casings','polyethylene','reticles','alcohol','acid-laurolactam','Polynitrilomethanetetraarylnitrilo-','cut','vulcanized','corer','enema','exceeds','alkyd','manufactured','filled','1','vinyl','rolled','strip','Polycarbonates','polyethers','mixed','handles','3','cm','Blinds','dimension','reinforced','masks','0.076','minimum','Ethylene-vinyl','PRCBs','Spring','weighing','butyral','phenyl]amino]methylene]amino','see','laminates','wire','Spools','Of','subheading','gravity','flasks','Bis4-amino-3-methylcyclohexylmethane-','Chlorinated','glass','leather','typewriter','strung','cable','canoes','Doors','predominate','Beads','0.94','service','sliders','Not','waste','tanks','metal','229','mounts','guts','copolymers','acetates','centerpieces','Carboxymethylcellulose','featuring','cartridges','cups','douche','Shutters','Ladders','uncompounded','PARINGS','cotton','serving',\"44'-methylenebisbenzeneamine\",'water','3923.10','gross','acrylic','Thermoplastic','use','halogenated','Covers','Monofilament','plastic','Handbags','cushions','core','Polyvinyl','mm','Polymethylene','used','cases','warning','whether','invalid','tubes','flat','liners','Gloves','attaching','making','chloride-ethylene','<end>','elsewhere','polyamides','PTFE','microcrystalline','drapes','Epoxide','side','ballotini','shapes','nursing','collagen','8704','homopolymer','Made','vehicles','reels','ketchup','Polymers','strings','Melamine','Gift','Casing','Fittings','Ethylene','flexible','craft','chloride-vinyl','percent','forms','furniture','blinds','Urea','closure','elbows','jackets','Office','aqueous','boats','pneumatic','polyterpenes','albums','Over','transport','vats','thickness','sticks','pans','open','50','Wall','polycarbonates','$10','coats','kg/m<sup>2</sup></il>','Carboys','products','thiourea','Ion-exchangers','joints','Transparent','valve','Flexible','regenerated','obtained','proteins','Tubes','Handles','mitts','shaped','liquid','paper','soup','PET','Parts','heads','polymer','machines','expanded','Waterbed','mittens','Polysaccharides','chemical','slipcovers','example','30','Plastic','washers','ceiling','Trays','1H-pyrrole-25-dione','polyvinylbenzyltrimethylammonium','accessories','inflatable','Floor','valued','Gates','drawstrings','low','components','wafers','patent','carbodiimide','power-driven','novolac','75','included','grains','Vinylidene','doors','cops','tiles','plates','Fluoropolymers','II.','MDI','AND','racing','Electrical','methacrylate','salts','ABS','materials','per','triangular','8702','Disposable','Nonplasticized','groups','seals','subheadings','pressure','disinfectant','brakes','compounded','55','bugles','rigid','78','Polymethyl','Pacifiers','surface','0.152','Polypropylene','meter','fittings','clothing','reel','[246-tris-1-methyethyl-13-','Chemical','Boxes','film','nitrates','school','basins','acid','cereal','Expandable','Photographic','backing','WASTE','machine','purposes','principally','light-reflecting','supplies','cents','children','specified','Polystyrene','gloves','napkins','therefor','epoxide','inches','8705','containing','monomers','crude','rainwear','bowls','parkas','collodions','bags','hot','Nursing','mats','rubber','note','modified','profile','sails','scarves','Strip','linear','granular','Buckets','house','styrene','covers','softball','Polyamide-6','acetate','polyurethanes','containers','8711','Amino-resins','width','Filament','Polyurethanes','ml/g','wall','5','200','household','Polyisobutylene','man-made','units','Polybutylene','pipes','cards','SEMIMANUFACTURES','positioning','isocyanate','designed','Methyl','USP','Unsaturated','MPa','unhydrolyzed','<start>','Aprons','phenylene]]-26-bis1-methylethyl-','derivatives','parts','mattresses','outer','Baths','prophylactics','profiles','powdered','pails','supports','Stoppers','V-belts','ARTICLES','tape','heading','syringes','predominates','Synchronous','ethyl','terephthalate','natural','Tableware','building','conveyance','gates','medical','solid','Pavement','cans','Reclosable','density','primary','Other','Surgical','carbazole','aromatic','wrap','hypodermic','Polyamides','shields','dishes','polymerized','derived','binders','statistical','amino-resins','kitchenware','-612','jacquard','8703','including','thresholds','Articles','liters','decorative','polysulfones','packing','Empty','wholly','suitable','unit','With','Cellular','Polyethylene','ester','windows','-66','railing','seats','shell','Silicones','caps','22.71','Linear','cellulosic','40','cables','Siding','hoses','belts','washbasins','For','Reflective','consisting','extruded','parings','table','burst','toilet','Polyacetals','Reservoirs','bulbs','-12','polyallyl','made','vegetable','Statuettes','caliper','polymeric','3901','bottles','esters','pads','Fasteners','Reinforced','polyvinyl','Frames','Plastics','ponchos','substances','catch','casing','methacrylate-butadiene-styrene','Petroleum','Vinyl','decking','α-Cellulose','slickers','nipples','Xanthan','Clothespins','like','integral','Products','Belting','gum','Self-adhesive','Imitation','Bows','indene','furnishings','ware','therefrom','Elastomeric','kind','single','weaving','ethylene','hygienic','cross-sectional','fitted','semiconductor','High','Thermosetting','resins','bidets','closures','seal','ml','Propylene','SAN','type','without','spangles','Cholestyramine','doilies','In','road','textile','drainage','imitation','cots','dress','shorter','sausage','27.6','Racket','gallons','headings','Alkyd','Film','9','Valued','propylene','<il>1.492','ethers','punched','acetate-vinyl','antimacassars','polyesters','cantilever','Baseball','apparel','machinery','polyester','cisterns','exterior','Artificial','shower','panels','copolymer','runners','Gaskets','frames','rings','brake','8486.90','Curtains','80','laminated','bobbins','olefins',\"11'-Bismethylenedi-41-phenylene-\",'surface-worked','20','MBS','mustard']\n",
    "VOCABNP = list({bs4.BeautifulSoup(x, 'html.parser').text for x in VOCABALL if bs4.BeautifulSoup(x, 'html.parser').text})\n",
    "VOCABNNUM = []\n",
    "for word in VOCABNP:\n",
    "    word = word.lower().strip()\n",
    "    try:\n",
    "        int(word)\n",
    "    except:\n",
    "        try:\n",
    "            float(word)\n",
    "\n",
    "        except Exception as err:\n",
    "            VOCABNNUM.append(word)\n",
    "\n",
    "VOCAB = [x for x in VOCABNNUM if x not in S]"
   ]
  },
  {
   "cell_type": "code",
   "execution_count": 35,
   "metadata": {},
   "outputs": [
    {
     "data": {
      "text/plain": [
       "(55, 105)"
      ]
     },
     "execution_count": 35,
     "metadata": {},
     "output_type": "execute_result"
    }
   ],
   "source": [
    "len(cleaned.match_vocab(VOCABNNUM)), len(cleaned.lines)"
   ]
  },
  {
   "cell_type": "code",
   "execution_count": 85,
   "metadata": {},
   "outputs": [],
   "source": [
    "class Context:\n",
    "    seperator = '<sep>'\n",
    "    text: str\n",
    "    lines: List[str]\n",
    "    line_count: int\n",
    "    word_count: int\n",
    "    char_count: int\n",
    "    about: dict\n",
    "\n",
    "\n",
    "    def __init__(self, lines =[], about={}) -> None:\n",
    "        self.about = about\n",
    "\n",
    "        if lines:\n",
    "            self.lines = lines\n",
    "            self.line_count = len(lines)\n",
    "\n",
    "            self.text = self.seperator.join(lines)\n",
    "\n",
    "            self.word_count = 0\n",
    "            self.char_count = 0\n",
    "            for line in lines:\n",
    "                words = line.split(' ')\n",
    "                self.word_count += len(words) \n",
    "                for word in words:\n",
    "                    self.char_count += len(word)\n",
    "\n",
    "    def generate_summary(self):\n",
    "        lines_ = []\n",
    "        words_ = []\n",
    "        \n",
    "        for line in self.lines:\n",
    "            words = line.split(' ')\n",
    "            for word in words:\n",
    "                lines_.append(line)\n",
    "                words_.append(word)\n",
    "        \n",
    "\n",
    "        df = pd.DataFrame({'line': lines_, 'word': words_})\n",
    "\n",
    "        avg_words_in_line = df.groupby('line').count().mean()['word']\n",
    "        avg_chars_in_line = pd.DataFrame({'sentence': df['line'].unique()})['sentence'].str.len().mean()\n",
    "        word_frequency = df.groupby(\"word\").count()['line']\n",
    "\n",
    "        results = {\n",
    "            'char_count': self.char_count,\n",
    "            'word_count': self.word_count,\n",
    "            'line_count': self.line_count,\n",
    "            'avg_words_in_line': avg_words_in_line,\n",
    "            'avg_chars_in_line': avg_chars_in_line,\n",
    "            'word_frequency': word_frequency,\n",
    "        }\n",
    "\n",
    "        return results\n",
    "\n",
    "\n",
    "    def plot_word_dict_graph(self, summary, vocab=[]):\n",
    "        wdf = pd.DataFrame(summary['word_frequency']).reset_index()\n",
    "        if vocab:\n",
    "            wdf[wdf['word'].isin(vocab)].sort_values('line', ascending=False).head(10).set_index('word').plot.bar()\n",
    "        else:\n",
    "            wdf.sort_values('line', ascending=False).head(10).set_index('word').plot.bar()\n",
    "\n",
    "\n",
    "    def save(self, name):\n",
    "        data = {\n",
    "            'seperator': self.seperator,\n",
    "            'lines': self.lines,\n",
    "            'about': self.about\n",
    "        }\n",
    "\n",
    "        json.dump(data, Path(name).open('w'))\n",
    "\n",
    "    @classmethod\n",
    "    def load(cls, name):\n",
    "        data = json.load(Path(name).open('r'))\n",
    "        clss = cls(data['lines'])\n",
    "        clss.seperator = data['seperator'],\n",
    "        clss.about = data['about']\n",
    "        return clss\n",
    "        \n",
    "context = Context(cleaned.match_vocab(VOCAB))"
   ]
  },
  {
   "cell_type": "code",
   "execution_count": 86,
   "metadata": {},
   "outputs": [],
   "source": [
    "summary = context.generate_summary()"
   ]
  },
  {
   "cell_type": "code",
   "execution_count": 87,
   "metadata": {},
   "outputs": [
    {
     "data": {
      "image/png": "[encoded data removed]",
      "text/plain": [
       "<Figure size 432x288 with 1 Axes>"
      ]
     },
     "metadata": {
      "needs_background": "light"
     },
     "output_type": "display_data"
    }
   ],
   "source": [
    "context.plot_word_dict_graph(summary, VOCAB)"
   ]
  },
  {
   "cell_type": "code",
   "execution_count": 88,
   "metadata": {},
   "outputs": [],
   "source": [
    "context.save('sample.json')"
   ]
  },
  {
   "cell_type": "code",
   "execution_count": 89,
   "metadata": {},
   "outputs": [
    {
     "data": {
      "text/plain": [
       "<__main__.Context at 0x1cfc13ceeb0>"
      ]
     },
     "execution_count": 89,
     "metadata": {},
     "output_type": "execute_result"
    },
    {
     "data": {
      "image/png": "[encoded data removed]",
      "text/plain": [
       "<Figure size 432x288 with 1 Axes>"
      ]
     },
     "metadata": {
      "needs_background": "light"
     },
     "output_type": "display_data"
    }
   ],
   "source": [
    "cntx = Context.load('sample.json')\n",
    "sumry = cntx.generate_summary()\n",
    "cntx.plot_word_dict_graph(sumry, VOCAB)\n",
    "cntx"
   ]
  },
  {
   "cell_type": "code",
   "execution_count": 112,
   "metadata": {},
   "outputs": [
    {
     "name": "stdout",
     "output_type": "stream",
     "text": [
      "{'link': 'https://multimedia.3m.com/mws/media/823819O/3m-scotchkote-pipe-renewal-liner-2400.pdf   and  https://www.3m.com.my/3M/en_MY/p/d/b00021897/'}\n",
      "{'link': 'https://www.powerandcables.com/product/product-category/3m-scotchcast-resin-cable-joints-91-nba/'}\n",
      "{'link': 'https://www.3mnz.co.nz/3M/en_NZ/p/dc/v000079273/'}\n",
      "{'link': 'https://www.3m.co.uk/3M/en_GB/p/d/eebgemdeu00420/'}\n",
      "{'link': 'https://www.3m.co.uk/3M/en_GB/p/d/eebgemdeu00420/'}\n",
      "{'link': 'https://www.3m.com/3M/en_US/p/dc/v000081605/  '}\n",
      "{'link': 'https://www.3m.com/3M/en_US/p/dc/v000081610/                                  '}\n",
      "{'link': 'https://www.3m.com/3M/en_LB/p/d/v000084897/'}\n",
      "{'link': 'https://xonstorage.blob.core.windows.net/pdf/3m_681_sup1manufacturerlinknew.pdf'}\n",
      "{'link': 'https://www.3mcanada.ca/3M/en_CA/p/d/v000085290/'}\n",
      "{'link': 'https://www.3mcanada.ca/3M/en_CA/p/d/v000076785/'}\n",
      "{'link': 'https://www.3m.com/3M/en_US/p/dc/v100774093/'}\n",
      "{'link': 'https://www.3m.com/3M/en_US/p/dc/v101259111/'}\n",
      "{'link': 'https://www.3m.com/3M/en_US/p/dc/v101259113/'}\n",
      "{'link': 'https://www.3mcanada.ca/3M/en_CA/p/dc/v000076143/'}\n",
      "{'link': 'https://www.3m.com/3M/en_US/p/d/b5005020008/?preselect=3293191341+8700116'}\n",
      "{'link': 'https://www.3mcanada.ca/3M/en_CA/p/dc/v000076205/'}\n",
      "{'link': 'https://multimedia.3m.com/mws/media/745494O/3m-ventureshield-paint-protection-film-7510-cc-cs.pdf'}\n",
      "{'link': 'https://www.3mcanada.ca/3M/en_CA/p/d/v000085113/'}\n"
     ]
    }
   ],
   "source": [
    "DB_C = 'DB-Contex'\n",
    "DB_CV = 'DB-ContexVocab'\n",
    "ignore = ['script', 'img', 'table', 'button', 'i', 'noscript', 'style', 'form', 'meta']\n",
    "for i, file in enumerate(all_files[205:], 205):\n",
    "    raw_context = RawHtmlContent.load(file)\n",
    "    print(raw_context.meta)\n",
    "    if raw_context.meta['link'].endswith('pdf'): continue\n",
    "    if len(raw_context.meta['link'].split(' and ')) > 1: continue\n",
    "\n",
    "    raw_body = Body(raw_context.content, ignore=ignore)\n",
    "    lines = raw_body.extract_lines()\n",
    "    cleaned = CleanLines(lines, lower=True)\n",
    "\n",
    "    Context(cleaned.lines, about=raw_context.meta).save(f\"{DB_C}/{i}.json\")\n",
    "    Context(cleaned.match_vocab(VOCAB), about=raw_context.meta).save(f\"{DB_CV}/{i}.json\")\n",
    "    "
   ]
  }
 ],
 "metadata": {
  "interpreter": {
   "hash": "9f8aa5802ff295996a7112b4a5db9d19dc5345ffcfa564382b481ea6763fd7b5"
  },
  "kernelspec": {
   "display_name": "Python 3.9.9 64-bit (system)",
   "language": "python",
   "name": "python3"
  },
  "language_info": {
   "codemirror_mode": {
    "name": "ipython",
    "version": 3
   },
   "file_extension": ".py",
   "mimetype": "text/x-python",
   "name": "python",
   "nbconvert_exporter": "python",
   "pygments_lexer": "ipython3",
   "version": "3.9.9"
  },
  "orig_nbformat": 4
 },
 "nbformat": 4,
 "nbformat_minor": 2
}
